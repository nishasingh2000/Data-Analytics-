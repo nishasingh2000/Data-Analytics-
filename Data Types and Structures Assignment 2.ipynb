{
 "cells": [
  {
   "cell_type": "markdown",
   "id": "949631a6",
   "metadata": {},
   "source": [
    "Data Types and Structures Assignment 2 "
   ]
  },
  {
   "cell_type": "markdown",
   "id": "f72ad8dd",
   "metadata": {},
   "source": [
    "1. What are data structures, and why are they important3 \n",
    "\n",
    "A data structure is a method of organizing and storing data to enable efficient access and manipulation. \n",
    "\n",
    ". Memory Management: Reducing space usage and avoiding redundant data storage. \n",
    "\n",
    ". Ensuring faster processing of tasks by organizing data effectively.\n",
    "\n",
    ". Problem Solving: Representing complex relationships and scenarios in an understandable way (e.g., trees for hierarchical data, graphs for networks). "
   ]
  },
  {
   "cell_type": "markdown",
   "id": "383a061c",
   "metadata": {},
   "source": [
    "2. Explain the difference between mutable and immutable data types with examples. \n",
    "\n",
    ">> Mutable vs Immutable Data Types \n",
    "\n",
    ". Mutable Data Types: These are data types whose values can be changed after creation. \n",
    "\n",
    ". Immutable Data Types: These are data types whose values cannot be altered once they are created. "
   ]
  },
  {
   "cell_type": "code",
   "execution_count": null,
   "id": "1c9d630a",
   "metadata": {},
   "outputs": [
    {
     "data": {
      "text/plain": [
       "[10, 2, 3]"
      ]
     },
     "execution_count": 1,
     "metadata": {},
     "output_type": "execute_result"
    }
   ],
   "source": [
    "# Mutable data types \n",
    "My_list=[1,2,3,]\n",
    "My_list[0]=10 \n",
    "My_list "
   ]
  },
  {
   "cell_type": "code",
   "execution_count": 2,
   "id": "a8177ade",
   "metadata": {},
   "outputs": [
    {
     "data": {
      "text/plain": [
       "'hello world'"
      ]
     },
     "execution_count": 2,
     "metadata": {},
     "output_type": "execute_result"
    }
   ],
   "source": [
    "# Immutable data types \n",
    "my_string = \"hello\"\n",
    "my_string = my_string + \" world\" \n",
    "my_string \n"
   ]
  },
  {
   "cell_type": "markdown",
   "id": "d88bcef4",
   "metadata": {},
   "source": [
    "3. What are the main differences between lists and tuples in Python. \n",
    "\n",
    "List\n",
    "You can store anything in list, it can store hetrogenous data. \n",
    "\n",
    "List is a ordered collection of elements that can be of any data type. \n",
    "\n",
    "List is a mutable values can be changed after creation\n",
    "\n",
    "Defined with square brackets [ ]\n",
    "\n",
    "Performance\tSlower due to mutability \n",
    "\n",
    "Supports more built-in methods (like append, remove) \n",
    "\n",
    "Consumes more memory \n",
    "\n",
    "Tuple>> \n",
    "\n",
    "You can store anything in list, it can store hetrogenous data. \n",
    "\n",
    "Tuple is a Immutable values can not be changed after creation\n",
    "\n",
    "Defined with parentheses ( ) \n",
    "\n",
    "Used for fixed or constant data \n",
    "\n",
    "Limited methods (e.g., count, index) \n",
    "\n",
    "Consumes less memory"
   ]
  },
  {
   "cell_type": "markdown",
   "id": "1484c14c",
   "metadata": {},
   "source": [
    "4. Describe how dictionaries store data. \n",
    "\n",
    "Dictionaries in Python store data as key-value pairs, making them highly efficient for accessing values using keys. \n",
    "\n",
    "my_dict = {\"name\": \"Alice\", \"age\": 25} "
   ]
  },
  {
   "cell_type": "markdown",
   "id": "bec833d2",
   "metadata": {},
   "source": [
    "5.Why might you use a set instead of a list in Python. \n",
    "\n",
    ".Sets automatically remove duplicate elements. \n",
    "\n",
    ". Sets support mathematical operations like union, intersection, difference, and symmetric difference, which are not natively available for lists. "
   ]
  },
  {
   "cell_type": "markdown",
   "id": "6846e767",
   "metadata": {},
   "source": [
    "6. How do tuples ensure data integrity in Python. \n",
    "\n",
    "Tuples ensure data integrity in Python 3 through their immutability. Once a tuple is created, its elements cannot be modified, added, or removed. This immutability provides stability and prevents accidental changes to the data, making tuples an excellent choice for scenarios where data must remain consistent. \n",
    "\n",
    "Features \n",
    "\n",
    "Once initialized, you cannot alter the elements, ensuring the original data remains intact. \n",
    "\n",
    "Tuples consume less memory compared to lists, reducing the risk of unnecessary data duplication. "
   ]
  },
  {
   "cell_type": "markdown",
   "id": "0da70ad9",
   "metadata": {},
   "source": [
    "7. What is a string in Python, and how is it different from a list \n",
    "\n",
    "In Python, a string is a sequence of characters enclosed in either single quotes ' ', double quotes \" \", or triple quotes ''' ''' or \"\"\" \"\"\". Strings are used to represent text and are immutable, meaning their values cannot be changed after they are created. \n",
    "\n",
    "String \n",
    "\n",
    ". Contains only characters (text)\n",
    ". Immutable (cannot be modified) \n",
    ". Enclosed in quotes \n",
    ". Can be accessed using indexing (str[0]) \n",
    "\n",
    "List \n",
    "\n",
    ". A collection of items \n",
    ". Mutable (can be modified)\n",
    ". Can contain any data type (e.g., int, str) \n",
    ". Enclosed in square brackets [ ]\n",
    ". Can also be accessed using indexing \n",
    "\n"
   ]
  },
  {
   "cell_type": "markdown",
   "id": "af314bbb",
   "metadata": {},
   "source": [
    "8. What is a hash table, and how does it relate to dictionaries in Python. \n",
    "\n",
    "A hash table is a data structure that stores key-value pairs and uses a hash function to compute an index where values are stored, allowing fast lookups.\n",
    "\n",
    "In Python, dictionaries use hash tables to store key-value pairs. Keys are hashed to find their location, ensuring quick operations like search, insert, and delete.\n",
    "\n"
   ]
  },
  {
   "cell_type": "markdown",
   "id": "141c79a1",
   "metadata": {},
   "source": [
    "\n",
    "9. Can lists contain different data types in Python. \n",
    "\n",
    " Yes, in Python, lists can contain elements of different data types. For example:\n",
    "\n",
    "my_list = [42, \"hello\", 3.14, True] "
   ]
  },
  {
   "cell_type": "markdown",
   "id": "f992fb4c",
   "metadata": {},
   "source": [
    "10. Explain why strings are immutable in Python. \n",
    "\n",
    "Strings are immutable in Python because once a string is created, it cannot be changed. This design choice has several benefits:\n",
    "\n",
    ">>. Efficiency: Since strings are widely used, immutability makes operations faster and memory-efficient. Python can safely reuse the same string in memory without creating duplicates."
   ]
  },
  {
   "cell_type": "markdown",
   "id": "945fd1e1",
   "metadata": {},
   "source": [
    "11. What advantages do dictionaries offer over lists for certain tasks\n",
    "\n",
    "Dictionaries offer several advantages over lists for specific tasks:\n",
    "\n",
    ">> Fast Lookups: Dictionaries let you quickly find values using keys. Lists take longer because they search item by item.\n",
    "\n",
    ">>Key-Value Storage: Dictionaries pair keys with values, making data easier to organize (e.g., names linked to phone numbers).\n",
    "\n",
    ">>No Order Needed: Dictionaries don’t care about order, which is great when it’s not important."
   ]
  },
  {
   "cell_type": "markdown",
   "id": "a2ebaee3",
   "metadata": {},
   "source": [
    "12. Describe a scenario where using a tuple would be preferable over a list. \n",
    "\n",
    "Use a tuple instead of a list when you need a fixed and unchangeable set of items. Tuples can't be modified (immutable), ensuring data stays secure and making them faster than lists for certain tasks. For example, storing coordinates like (28.6139, 77.2090) ensures they remain accurate. "
   ]
  },
  {
   "cell_type": "markdown",
   "id": "b590b292",
   "metadata": {},
   "source": [
    "13. How do sets handle duplicate values in Python. \n",
    "\n",
    "In Python, sets automatically remove duplicate values. When you add items to a set, any duplicates are ignored, ensuring that all elements are unique. \n"
   ]
  },
  {
   "cell_type": "markdown",
   "id": "e856d31f",
   "metadata": {},
   "source": [
    "14. How does the “in” keyword work differently for lists and dictionaries. \n",
    "\n",
    "The in keyword works differently for lists and dictionaries in Python:\n",
    "\n",
    "The in keyword checks if a value exists as an element in the list.\n",
    "\n",
    "The in keyword checks if a key exists in the dictionary, not the values."
   ]
  },
  {
   "cell_type": "markdown",
   "id": "21d59177",
   "metadata": {},
   "source": [
    "15. Can you modify the elements of a tuple? Explain why or why not. \n",
    "\n",
    "No, you cannot modify the elements of a tuple in Python because tuples are immutable. Once a tuple is created, its contents cannot be changed, added, or removed. This immutability makes tuples safer when you want to ensure data remains constant and unaltered. "
   ]
  },
  {
   "cell_type": "markdown",
   "id": "8b75d2de",
   "metadata": {},
   "source": [
    "16. What is a nested dictionary, and give an example of its use case. \n",
    "\n",
    "A nested dictionary is a dictionary where one or more values are themselves dictionaries. It is useful for storing complex, hierarchical data structures.\n",
    "\n",
    "employees = {\n",
    "    \"John\": {\"age\": 30, \"department\": \"IT\", \"role\": \"Developer\"},\n",
    "    \"Emma\": {\"age\": 27, \"department\": \"HR\", \"role\": \"Manager\"},\n",
    "    \"Sanjay\": {\"age\": 35, \"department\": \"Finance\", \"role\": \"Analyst\"}"
   ]
  },
  {
   "cell_type": "markdown",
   "id": "e535e92a",
   "metadata": {},
   "source": [
    "17. Describe the time complexity of accessing elements in a dictionaryP\n",
    "\n",
    "\n",
    "Accessing elements in a dictionary in Python has an average time complexity of O(1). This is because dictionaries are implemented using hash tables, allowing keys to be hashed directly to their memory locations."
   ]
  },
  {
   "cell_type": "markdown",
   "id": "37dd7dc5",
   "metadata": {},
   "source": [
    "18. In what situations are lists preferred over dictionaries \n",
    "\n",
    "Lists are preferred over dictionaries when:\n",
    "\n",
    "Order Matters: Lists maintain the order of elements, which is useful for tasks like sorting or sequential operations.\n",
    "\n",
    "Simple Data: Use lists when you only need to store a collection of values without associating them with keys.\n",
    "\n",
    "Duplicate Items: Lists allow duplicates, unlike dictionaries where keys must be unique.\n",
    "\n",
    "Iteration: Lists are simpler and faster for tasks requiring repeated access to elements in order."
   ]
  },
  {
   "cell_type": "markdown",
   "id": "1c3f4cda",
   "metadata": {},
   "source": [
    "19. Why are dictionaries considered unordered, and how does that affect data retrieval3\n",
    "\n",
    "Dictionaries are considered unordered because their elements are stored based on hashed keys, not in a specific sequence. This means you can’t rely on the order of items. However, data retrieval is still fast, as values are accessed directly using their keys, not by position.\n",
    "\n"
   ]
  },
  {
   "cell_type": "markdown",
   "id": "cdca7dda",
   "metadata": {},
   "source": [
    "20. Explain the difference between a list and a dictionary in terms of data retrieval.\n",
    "\n",
    "Lists: Data is retrieved by index (position), such as my_list[0] for the first item.\n",
    "\n",
    "Dictionaries: Data is retrieved by key, such as my_dict[\"name\"]. "
   ]
  },
  {
   "cell_type": "markdown",
   "id": "3bda75d6",
   "metadata": {},
   "source": [
    "Practical questions :- "
   ]
  },
  {
   "cell_type": "code",
   "execution_count": 1,
   "id": "6b6bd6d0",
   "metadata": {},
   "outputs": [
    {
     "name": "stdout",
     "output_type": "stream",
     "text": [
      "Nisha Singh\n"
     ]
    }
   ],
   "source": [
    "1. ## Write a code to create a string with your name and print it\n",
    "\n",
    "Name=\"Nisha Singh\"\n",
    "print(\"Nisha Singh\")\n"
   ]
  },
  {
   "cell_type": "code",
   "execution_count": 3,
   "id": "9a29ece4",
   "metadata": {},
   "outputs": [
    {
     "data": {
      "text/plain": [
       "11"
      ]
     },
     "execution_count": 3,
     "metadata": {},
     "output_type": "execute_result"
    }
   ],
   "source": [
    "2. ## Write a code to find the length of the string \"Hello World\" \n",
    "\n",
    "Python= \"Hello world\"\n",
    "len(Python)"
   ]
  },
  {
   "cell_type": "code",
   "execution_count": 4,
   "id": "20a844ec",
   "metadata": {},
   "outputs": [
    {
     "data": {
      "text/plain": [
       "'pyt'"
      ]
     },
     "execution_count": 4,
     "metadata": {},
     "output_type": "execute_result"
    }
   ],
   "source": [
    "3. ## Write a code to slice the first 3 characters from the string \"Python Programming\" \n",
    "\n",
    "Code= \"python programming\"\n",
    "Code[:3]\n"
   ]
  },
  {
   "cell_type": "code",
   "execution_count": 5,
   "id": "9d762c9d",
   "metadata": {},
   "outputs": [
    {
     "data": {
      "text/plain": [
       "'HELLO'"
      ]
     },
     "execution_count": 5,
     "metadata": {},
     "output_type": "execute_result"
    }
   ],
   "source": [
    "4. ## Write a code to convert the string \"hello\" to uppercase. \n",
    "b1=\"hello\"\n",
    "b1.upper()\n"
   ]
  },
  {
   "cell_type": "code",
   "execution_count": 12,
   "id": "af0e17e5",
   "metadata": {},
   "outputs": [
    {
     "data": {
      "text/plain": [
       "'I like orange'"
      ]
     },
     "execution_count": 12,
     "metadata": {},
     "output_type": "execute_result"
    }
   ],
   "source": [
    "5. ## Write a code to replace the word \"apple\" with \"orange\" in the string \"I like apple\" \n",
    "\n",
    "fruit= \"I like apple\"\n",
    "fruit=fruit.replace(\"apple\",\"orange\")\n",
    "fruit\n"
   ]
  },
  {
   "cell_type": "code",
   "execution_count": 16,
   "id": "ec031a40",
   "metadata": {},
   "outputs": [
    {
     "name": "stdout",
     "output_type": "stream",
     "text": [
      "[1, 2, 3, 4, 5]\n"
     ]
    }
   ],
   "source": [
    "6. ## Write a code to create a list with numbers 1 to 5 and print it. \n",
    "\n",
    "list1=[1,2,3,4,5]\n",
    "print(list1)\n"
   ]
  },
  {
   "cell_type": "code",
   "execution_count": 17,
   "id": "0da8f5fb",
   "metadata": {},
   "outputs": [
    {
     "data": {
      "text/plain": [
       "[1, 2, 3, 4, 10]"
      ]
     },
     "execution_count": 17,
     "metadata": {},
     "output_type": "execute_result"
    }
   ],
   "source": [
    "7. ## Write a code to append the number 10 to the list [1, 2, 3, 4] \n",
    "\n",
    "list2=[1,2,3,4]\n",
    "list2.append(10)\n",
    "list2\n"
   ]
  },
  {
   "cell_type": "code",
   "execution_count": 18,
   "id": "a8a32734",
   "metadata": {},
   "outputs": [
    {
     "data": {
      "text/plain": [
       "[1, 2, 4, 5]"
      ]
     },
     "execution_count": 18,
     "metadata": {},
     "output_type": "execute_result"
    }
   ],
   "source": [
    "8. ## Write a code to remove the number 3 from the list [1, 2, 3, 4, 5]\n",
    "list= [1,2,3,4,5]\n",
    "list.remove(3)\n",
    "list\n"
   ]
  },
  {
   "cell_type": "code",
   "execution_count": null,
   "id": "847d26a4",
   "metadata": {},
   "outputs": [
    {
     "name": "stdout",
     "output_type": "stream",
     "text": [
      "b\n"
     ]
    }
   ],
   "source": [
    "9. ## Write a code to access the second element in the list ['a', 'b', 'c', 'd']\n",
    "my_list= ['a', 'b', 'c', 'd'] \n",
    "my_list[1]\n",
    "print(my_list[1])"
   ]
  },
  {
   "cell_type": "code",
   "execution_count": 25,
   "id": "358b8981",
   "metadata": {},
   "outputs": [
    {
     "data": {
      "text/plain": [
       "[50, 40, 30, 20, 10]"
      ]
     },
     "execution_count": 25,
     "metadata": {},
     "output_type": "execute_result"
    }
   ],
   "source": [
    "10. ## Write a code to reverse the list [10, 20, 30, 40, 50] \n",
    "\n",
    "list=[10, 20, 30, 40, 50] \n",
    "list.reverse()\n",
    "list"
   ]
  },
  {
   "cell_type": "code",
   "execution_count": 26,
   "id": "96bc01b4",
   "metadata": {},
   "outputs": [
    {
     "name": "stdout",
     "output_type": "stream",
     "text": [
      "(100, 200, 300)\n"
     ]
    }
   ],
   "source": [
    "11. ## Write a code to create a tuple with the elements 100, 200, 300 and print it.\n",
    "\n",
    "tuple= (100,200,300)\n",
    "print(tuple)"
   ]
  },
  {
   "cell_type": "code",
   "execution_count": 28,
   "id": "0280e54a",
   "metadata": {},
   "outputs": [
    {
     "data": {
      "text/plain": [
       "'blue'"
      ]
     },
     "execution_count": 28,
     "metadata": {},
     "output_type": "execute_result"
    }
   ],
   "source": [
    "12. ## Write a code to access the second-to-last element of the tuple ('red', 'green', 'blue', 'yellow') \n",
    "\n",
    "t1= ('red', 'green', 'blue', 'yellow') \n",
    "t1[-2]\n"
   ]
  },
  {
   "cell_type": "code",
   "execution_count": 29,
   "id": "e7b50e63",
   "metadata": {},
   "outputs": [
    {
     "data": {
      "text/plain": [
       "5"
      ]
     },
     "execution_count": 29,
     "metadata": {},
     "output_type": "execute_result"
    }
   ],
   "source": [
    "13. ## Write a code to find the minimum number in the tuple (10, 20, 5, 15) \n",
    "t2=(10, 20, 5, 15) \n",
    "min(t2)"
   ]
  },
  {
   "cell_type": "code",
   "execution_count": 30,
   "id": "85a3e15c",
   "metadata": {},
   "outputs": [
    {
     "data": {
      "text/plain": [
       "1"
      ]
     },
     "execution_count": 30,
     "metadata": {},
     "output_type": "execute_result"
    }
   ],
   "source": [
    "14. ## Write a code to find the index of the element \"cat\" in the tuple ('dog', 'cat', 'rabbit').\n",
    "t3=('dog', 'cat', 'rabbit')\n",
    "t3.index(\"cat\")"
   ]
  },
  {
   "cell_type": "code",
   "execution_count": 33,
   "id": "0247c773",
   "metadata": {},
   "outputs": [
    {
     "data": {
      "text/plain": [
       "False"
      ]
     },
     "execution_count": 33,
     "metadata": {},
     "output_type": "execute_result"
    }
   ],
   "source": [
    "15. ## Write a code to create a tuple containing three different fruits and check if \"kiwi\" is in it.\n",
    "\n",
    "fruits=(\"banana\",\"apple\",\"cherry\")\n",
    "\"kiwi\" in fruits "
   ]
  },
  {
   "cell_type": "code",
   "execution_count": 34,
   "id": "6c08f1ed",
   "metadata": {},
   "outputs": [
    {
     "name": "stdout",
     "output_type": "stream",
     "text": [
      "{'c', 'a', 'b'}\n"
     ]
    }
   ],
   "source": [
    "16. ## Write a code to create a set with the elements 'a', 'b', 'c' and print it.\n",
    "\n",
    "set={'a','b','c'}\n",
    "print(set)"
   ]
  },
  {
   "cell_type": "code",
   "execution_count": 36,
   "id": "f8618ad0",
   "metadata": {},
   "outputs": [
    {
     "data": {
      "text/plain": [
       "set()"
      ]
     },
     "execution_count": 36,
     "metadata": {},
     "output_type": "execute_result"
    }
   ],
   "source": [
    "17. ## Write a code to clear all elements from the set {1, 2, 3, 4, 5} \n",
    "\n",
    "set1= {1, 2, 3, 4, 5} \n",
    "set1.clear()\n",
    "set1"
   ]
  },
  {
   "cell_type": "code",
   "execution_count": 37,
   "id": "65dd8a46",
   "metadata": {},
   "outputs": [
    {
     "data": {
      "text/plain": [
       "{1, 2, 3}"
      ]
     },
     "execution_count": 37,
     "metadata": {},
     "output_type": "execute_result"
    }
   ],
   "source": [
    "18. ## Write a code to remove the element 4 from the set {1, 2, 3, 4} \n",
    "\n",
    "set1= {1, 2, 3, 4} \n",
    "set1.remove(4)\n",
    "set1"
   ]
  },
  {
   "cell_type": "code",
   "execution_count": 39,
   "id": "811a04b9",
   "metadata": {},
   "outputs": [
    {
     "data": {
      "text/plain": [
       "{1, 2, 3, 4, 5}"
      ]
     },
     "execution_count": 39,
     "metadata": {},
     "output_type": "execute_result"
    }
   ],
   "source": [
    "19. ## Write a code to find the union of two sets {1, 2, 3} and {3, 4, 5} \n",
    "\n",
    "sets1 = {1, 2, 3} \n",
    "sets2= {3, 4, 5}\n",
    "sets= set1.union(sets2)\n",
    "sets"
   ]
  },
  {
   "cell_type": "code",
   "execution_count": 41,
   "id": "cfd46d51",
   "metadata": {},
   "outputs": [
    {
     "data": {
      "text/plain": [
       "{2, 3}"
      ]
     },
     "execution_count": 41,
     "metadata": {},
     "output_type": "execute_result"
    }
   ],
   "source": [
    "20 ## Write a code to find the intersection of two sets {1, 2, 3} and {2, 3, 4}.\n",
    "\n",
    "sets1= {1, 2, 3}\n",
    "sets2= {2, 3, 4} \n",
    "sets=set1.intersection(sets2)\n",
    "sets"
   ]
  },
  {
   "cell_type": "code",
   "execution_count": 42,
   "id": "c8388e77",
   "metadata": {},
   "outputs": [
    {
     "name": "stdout",
     "output_type": "stream",
     "text": [
      "{'Name': 'Nisha', 'Age': '24', 'City': 'Delhi'}\n"
     ]
    }
   ],
   "source": [
    "21. ## 21. Write a code to create a dictionary with the keys \"name\", \"age\", and \"city\", and print it. \n",
    "\n",
    "dict={\"Name\": \"Nisha\",\"Age\":\"24\",\"City\": \"Delhi\"}\n",
    "print(dict)"
   ]
  },
  {
   "cell_type": "code",
   "execution_count": 46,
   "id": "12f57351",
   "metadata": {},
   "outputs": [
    {
     "data": {
      "text/plain": [
       "{'name': 'John', 'age': 25, 'country': 'USA'}"
      ]
     },
     "execution_count": 46,
     "metadata": {},
     "output_type": "execute_result"
    }
   ],
   "source": [
    "22. ## Write a code to add a new key-value pair \"country\": \"USA\" to the dictionary {'name': 'John', 'age': 25} \n",
    "\n",
    "my_dict= {'name': 'John', 'age': 25}\n",
    "my_dict[\"country\"]=\"USA\"\n",
    "my_dict"
   ]
  },
  {
   "cell_type": "code",
   "execution_count": 49,
   "id": "48babab4",
   "metadata": {},
   "outputs": [
    {
     "data": {
      "text/plain": [
       "'Alice'"
      ]
     },
     "execution_count": 49,
     "metadata": {},
     "output_type": "execute_result"
    }
   ],
   "source": [
    "23. ## Write a code to access the value associated with the key \"name\" in the dictionary {'name': 'Alice', 'age': 30} \n",
    "dictionary= {'name': 'Alice', 'age': 30} \n",
    "dictionary['name']"
   ]
  },
  {
   "cell_type": "code",
   "execution_count": 51,
   "id": "05ccaada",
   "metadata": {},
   "outputs": [
    {
     "data": {
      "text/plain": [
       "{'name': 'Bob', 'city': 'New York'}"
      ]
     },
     "execution_count": 51,
     "metadata": {},
     "output_type": "execute_result"
    }
   ],
   "source": [
    "24. ## Write a code to remove the key \"age\" from the dictionary {'name': 'Bob', 'age': 22, 'city': 'New York'} \n",
    "dict1= {'name': 'Bob', 'age': 22, 'city': 'New York'} \n",
    "dict1.pop('age')\n",
    "dict1"
   ]
  },
  {
   "cell_type": "code",
   "execution_count": 52,
   "id": "ee065964",
   "metadata": {},
   "outputs": [
    {
     "name": "stdout",
     "output_type": "stream",
     "text": [
      "The key city exists! \n"
     ]
    }
   ],
   "source": [
    "25. ## Write a code to check if the key \"city\" exists in the dictionary {'name': 'Alice', 'city': 'Paris'} \n",
    "\n",
    "dict2= {'name': 'Alice', 'city': 'Paris'} \n",
    "if 'city' in dict2:\n",
    "    print('The key city exists! ')\n",
    "else:\n",
    "    print('The key city does not exist')"
   ]
  },
  {
   "cell_type": "code",
   "execution_count": 53,
   "id": "38143abb",
   "metadata": {},
   "outputs": [
    {
     "name": "stdout",
     "output_type": "stream",
     "text": [
      "{'name': ['sanjay', 'ajay', 1, 2], 'email': 'nishazaomatouae@gmail.com', 'contact': '9711442390'}\n"
     ]
    }
   ],
   "source": [
    "26. ## Write a code to create a list, a tuple, and a dictionary, and print them all.\n",
    "\n",
    "d={\"name\":[\"sanjay\",\"ajay\",1,2],\"email\":\"nishazaomatouae@gmail.com\",\"contact\":(\"9711442390\")}\n",
    "print(d)\n",
    "\n"
   ]
  },
  {
   "cell_type": "code",
   "execution_count": 3,
   "id": "377b170f",
   "metadata": {},
   "outputs": [
    {
     "name": "stdout",
     "output_type": "stream",
     "text": [
      "[1, 6, 11, 16, 21, 26, 31, 36, 41, 46, 51, 56, 61, 66, 71, 76, 81, 86, 91, 96]\n"
     ]
    }
   ],
   "source": [
    "27. ## Write a code to create a list of 5 random numbers between 1 and 100, sort it in ascending order, and print the result.(replaced)\n",
    "\n",
    "random_numbers = list(range(1, 101, 5))\n",
    "random_numbers.sort()\n",
    "print(random_numbers)"
   ]
  },
  {
   "cell_type": "code",
   "execution_count": 4,
   "id": "e965c2a5",
   "metadata": {},
   "outputs": [
    {
     "name": "stdout",
     "output_type": "stream",
     "text": [
      "date\n"
     ]
    }
   ],
   "source": [
    "28. ## Write a code to create a list with strings and print the element at the third index. \n",
    "\n",
    "my_list = [\"apple\", \"banana\", \"cherry\", \"date\", \"elderberry\"] \n",
    "print(my_list[3])"
   ]
  },
  {
   "cell_type": "code",
   "execution_count": 9,
   "id": "4ba44a80",
   "metadata": {},
   "outputs": [
    {
     "name": "stdout",
     "output_type": "stream",
     "text": [
      "{'name': 'Alice', 'age': 25, 'city': 'New York', 'country': 'USA'}\n"
     ]
    }
   ],
   "source": [
    "29. ## Write a code to combine two dictionaries into one and print the result. \n",
    "\n",
    "dict1 = {'name': 'Alice', 'age': 25}\n",
    "dict2 = {'city': 'New York', 'country': 'USA'} \n",
    "dict1.update(dict2)\n",
    "print(dict1)\n"
   ]
  },
  {
   "cell_type": "code",
   "execution_count": 13,
   "id": "2f692a2a",
   "metadata": {},
   "outputs": [
    {
     "name": "stdout",
     "output_type": "stream",
     "text": [
      "<class 'list'>\n"
     ]
    }
   ],
   "source": [
    "30. ## Write a code to convert a list of strings into a set. \n",
    "fruits= [\"apple\", \"banana\", \"cherry\", \"date\", \"elderberry\"]\n",
    "fruits_set= set(fruits)\n",
    "print(type(fruits))\n"
   ]
  }
 ],
 "metadata": {
  "kernelspec": {
   "display_name": "Python 3",
   "language": "python",
   "name": "python3"
  },
  "language_info": {
   "codemirror_mode": {
    "name": "ipython",
    "version": 3
   },
   "file_extension": ".py",
   "mimetype": "text/x-python",
   "name": "python",
   "nbconvert_exporter": "python",
   "pygments_lexer": "ipython3",
   "version": "3.12.2"
  }
 },
 "nbformat": 4,
 "nbformat_minor": 5
}
