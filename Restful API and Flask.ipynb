{
 "cells": [
  {
   "cell_type": "markdown",
   "id": "4d14d45d-262c-49c3-848a-bd27c149c654",
   "metadata": {},
   "source": [
    "# Theorotical Questions"
   ]
  },
  {
   "cell_type": "markdown",
   "id": "d7656ea9-a2cc-4a48-b5b8-ad0aacdeb11c",
   "metadata": {},
   "source": [
    "### 1. What is a RESTful API"
   ]
  },
  {
   "cell_type": "markdown",
   "id": "65f03789-cbbb-48ad-b4f0-d78041152ad7",
   "metadata": {},
   "source": [
    "A RESTful API (Representational State Transfer API) is a web service that follows the principles of REST architecture to allow different software systems to communicate over the internet using HTTP methods."
   ]
  },
  {
   "cell_type": "markdown",
   "id": "f8c598a6-9266-4c74-bf0d-fb9986f8ad05",
   "metadata": {},
   "source": [
    "Key Concepts:\n",
    "\n",
    "REST (Representational State Transfer): It's an architectural style for designing networked applications, introduced by Roy Fielding. It uses standard HTTP methods to interact with resources.\n",
    "\n",
    "Resources: Everything in a RESTful API is considered a resource, typically represented as data objects (like users, products, etc.) and identified by URLs."
   ]
  },
  {
   "cell_type": "markdown",
   "id": "813380bb-6ee4-4594-b05d-c7fc9f7a0a91",
   "metadata": {},
   "source": [
    "### 2. Explain the concept of API specification"
   ]
  },
  {
   "cell_type": "markdown",
   "id": "bc16d369-c400-44ce-86b9-55a2dcb33c8a",
   "metadata": {},
   "source": [
    "An API specification is a detailed blueprint or contract that defines how an API behaves — including what it offers, how to use it, and how it responds."
   ]
  },
  {
   "cell_type": "markdown",
   "id": "116a6d24-2a19-4fc0-b693-cbd076dfdbab",
   "metadata": {},
   "source": [
    "Key Elements of an API Specification:\n",
    "Endpoints:\n",
    "\n",
    "The URL paths for accessing different resources.\n",
    "\n",
    "Example: /users/{id}, /products\n",
    "\n",
    "HTTP Methods:\n",
    "\n",
    "Specifies which method is used for each endpoint.\n",
    "\n",
    "Example: GET, POST, PUT, DELETE\n",
    "\n",
    "Request Parameters:\n",
    "\n",
    "Query params, path variables, headers, or body content required by the API.\n",
    "\n",
    "Example: GET /users?id=123 → id is a query parameter.\n",
    "\n",
    "Request Body:\n",
    "\n",
    "For methods like POST or PUT, it shows the JSON or XML data structure required.\n",
    "\n",
    "Responses:\n",
    "\n",
    "Describes the response format (usually JSON or XML), status codes (like 200, 404, 500), and data fields returned."
   ]
  },
  {
   "cell_type": "markdown",
   "id": "b9a930e6-d879-426e-af17-67c7929d7d37",
   "metadata": {},
   "source": [
    "### 3. What is Flask and why is it popular for building APIs"
   ]
  },
  {
   "cell_type": "markdown",
   "id": "4cdcc8bf-3f6c-49ad-8a73-4817d9b261e2",
   "metadata": {},
   "source": [
    "Flask is a lightweight, open-source web framework written in Python. It's used to build web applications and RESTful APIs quickly and with minimal code."
   ]
  },
  {
   "cell_type": "markdown",
   "id": "ee3eb31c-8d8a-44d0-b770-e2d62d0d1f06",
   "metadata": {},
   "source": [
    "Flask is called a micro-framework because:\n",
    "\n",
    "It provides the core tools needed to build a web app.\n",
    "\n",
    "It does not include built-in tools like authentication, database layers, or form validation — unless you add them as extensions.\n",
    "\n"
   ]
  },
  {
   "cell_type": "markdown",
   "id": "280810a0-6669-461f-bf43-86f8d5826049",
   "metadata": {},
   "source": [
    "### 4. What is routing in flask"
   ]
  },
  {
   "cell_type": "markdown",
   "id": "55a74638-dfba-4dfc-9f26-83b7c886ba05",
   "metadata": {},
   "source": [
    "Routing in Flask is the process of defining URL patterns (routes) that are linked to specific Python functions (called view functions), which handle requests and return responses. Using the @app.route() decorator, Flask maps incoming HTTP requests to the appropriate function, allowing developers to control what content or data is served when a user accesses a particular URL."
   ]
  },
  {
   "cell_type": "markdown",
   "id": "a6185dbf-36be-464b-8441-7d0a85f2aa59",
   "metadata": {},
   "source": [
    "### 5. How do you create a simple Flask application"
   ]
  },
  {
   "cell_type": "markdown",
   "id": "e15cd97d-00ad-4e60-a287-cd207821299a",
   "metadata": {},
   "source": [
    "To create a simple Flask application, you first install Flask using pip install flask. Then, you create a Python file (e.g., app.py) and import Flask. Inside the file, you initialize the app with app = Flask(__name__) and define at least one route using the @app.route() decorator. For example, defining a function like home() and mapping it to '/' will display a message such as \"Hello, Flask!\" when someone visits the root URL. Finally, you run the app using app.run(debug=True), and the application will start on http://127.0.0.1:5000/, where you can view the output in your browser."
   ]
  },
  {
   "cell_type": "markdown",
   "id": "30238768-0f9f-4605-a4cd-ecda17abab61",
   "metadata": {},
   "source": [
    "### 6. What are HTTP methods used in RESTful APIs"
   ]
  },
  {
   "cell_type": "markdown",
   "id": "3516835d-8ca3-4688-ae26-6e2c469d9e41",
   "metadata": {},
   "source": [
    "HTTP methods in RESTful APIs define the type of operation a client wants to perform on a resource. The most common methods include GET, POST, PUT, DELETE, and PATCH. GET is used to retrieve data from the server without making any changes. POST is used to create a new resource by sending data to the server. PUT is used to update an existing resource by replacing it with new data, while PATCH is used for partial updates. DELETE removes a specified resource from the server. These methods align with the CRUD operations (Create, Read, Update, Delete) and make RESTful APIs intuitive and consistent to use."
   ]
  },
  {
   "cell_type": "markdown",
   "id": "d479920d-66ab-41bb-923a-0b89e4fd553a",
   "metadata": {},
   "source": [
    "### 7.  What is the purpose of the @app.route() decorator in Flask"
   ]
  },
  {
   "cell_type": "markdown",
   "id": "41c8ef00-6dfd-4daa-b60c-1906c4f24ee3",
   "metadata": {},
   "source": [
    "The @app.route() decorator in Flask is used to define the URL route that triggers a specific function, known as a view function. It maps a particular web address (like '/' or '/about') to a Python function that handles the request and returns a response. When a user accesses that URL in the browser or through an API call, Flask executes the corresponding function and sends back the result. This decorator is essential for setting up routes in a Flask application and controlling what content or data is served for different endpoints."
   ]
  },
  {
   "cell_type": "markdown",
   "id": "0fcd8c5e-be27-4282-be99-1f7f02c6e612",
   "metadata": {},
   "source": [
    "### 8. What is the difference between GET and POST HTTP methods"
   ]
  },
  {
   "cell_type": "markdown",
   "id": "f75db8c5-b500-45f0-bc14-b3ee2edd088e",
   "metadata": {},
   "source": [
    "The GET and POST HTTP methods are used for different types of operations in web communication. GET is used to retrieve data from a server without making any changes; the data is sent through the URL as query parameters and is visible in the browser, making it suitable for non-sensitive requests like search queries. In contrast, POST is used to send data to the server to create or update a resource; the data is included in the request body, making it more secure for transmitting sensitive or large amounts of data. Additionally, GET requests are generally cacheable and can be bookmarked, while POST requests are not."
   ]
  },
  {
   "cell_type": "markdown",
   "id": "e97cac7f-f26d-4a9e-8960-fd5004aa8308",
   "metadata": {},
   "source": [
    "### 9. How do you handle errors in Flask APIs"
   ]
  },
  {
   "cell_type": "markdown",
   "id": "dd03be99-ed8a-4961-9e46-4612409e8a67",
   "metadata": {},
   "source": [
    "In Flask APIs, errors are typically handled using error handlers and try-except blocks. You can define custom responses for common HTTP error codes like 404 (Not Found) or 500 (Internal Server Error) using the @app.errorhandler() decorator. This allows you to return user-friendly error messages in JSON format instead of default HTML error pages. Additionally, within your route functions, you can use try-except blocks to catch specific exceptions and return meaningful responses with appropriate status codes using return jsonify(), status_code. This structured error handling ensures better API reliability and improves the client’s ability to debug issues."
   ]
  },
  {
   "cell_type": "markdown",
   "id": "6eb28ed0-b593-414c-a7cd-c20ef7f218fd",
   "metadata": {},
   "source": [
    "### 10 .How do you connect Flask to a SQL database"
   ]
  },
  {
   "cell_type": "markdown",
   "id": "592cb2fb-f234-4932-ae58-0a1da827a555",
   "metadata": {},
   "source": [
    "To connect Flask to a SQL database, you typically use an ORM (Object-Relational Mapper) like SQLAlchemy, which integrates smoothly with Flask via the Flask-SQLAlchemy extension. First, you install Flask-SQLAlchemy and configure your database URI in the Flask app’s settings to specify the database type and location (e.g., PostgreSQL, MySQL, or SQLite). Then, you initialize the SQLAlchemy object with your Flask app, which allows you to define database models as Python classes representing tables. This setup lets you perform database operations like querying, inserting, and updating records using Python code instead of raw SQL, making database interactions easier and more secure within your Flask application."
   ]
  },
  {
   "cell_type": "markdown",
   "id": "89bc7409-378e-4198-8e30-e97c26315769",
   "metadata": {},
   "source": [
    "### 11.What is the role of Flask-SQLAlchemy"
   ]
  },
  {
   "cell_type": "markdown",
   "id": "f5af2b32-92f1-482a-8d3f-03f091636aaf",
   "metadata": {},
   "source": [
    "Flask-SQLAlchemy is an extension for Flask that simplifies working with databases by integrating the powerful SQLAlchemy ORM (Object-Relational Mapper) into Flask applications. It provides a high-level, Pythonic way to define database models, perform queries, and manage database connections without writing raw SQL. Flask-SQLAlchemy handles configuration, connection pooling, and session management, making it easier to interact with various SQL databases while keeping your code clean, organized, and easier to maintain within the Flask framework."
   ]
  },
  {
   "cell_type": "markdown",
   "id": "59a10c10-4e61-4f23-abdf-80df8d4c3f01",
   "metadata": {},
   "source": [
    "### 12.  What are Flask blueprints, and how are they useful"
   ]
  },
  {
   "cell_type": "markdown",
   "id": "5102ae4a-e38a-4259-a05c-2f3cd8ac988f",
   "metadata": {},
   "source": [
    "Flask blueprints are a way to organize and structure a Flask application by grouping related routes, templates, and static files into reusable and modular components. They allow developers to break a large application into smaller, manageable pieces, making the codebase cleaner and easier to maintain. Blueprints enable better separation of concerns by encapsulating functionality, which also facilitates collaboration on different parts of an app or reuse of code across multiple projects. By registering blueprints with the main Flask application, you can keep your app scalable and organized, especially as it grows in complexity."
   ]
  },
  {
   "cell_type": "markdown",
   "id": "71a959a1-eddd-484d-a66e-c5dab51c65d4",
   "metadata": {},
   "source": [
    "### 13. What is the purpose of Flask's request object"
   ]
  },
  {
   "cell_type": "markdown",
   "id": "3749fcef-59ea-4950-b749-0cbea6e0a664",
   "metadata": {},
   "source": [
    "Flask’s request object represents the incoming HTTP request sent by a client to the server. It provides easy access to all the data contained in that request, such as form data, query parameters, headers, cookies, and JSON payloads. The request object allows developers to retrieve user input, files, and other request details needed to process and respond appropriately. It plays a crucial role in handling client-server communication by enabling Flask routes to interact dynamically with data sent by users or other applications."
   ]
  },
  {
   "cell_type": "markdown",
   "id": "ec1d5a09-fa72-4721-b54b-5931c3b48952",
   "metadata": {},
   "source": [
    "### 14. How do you create a RESTful API endpoint using Flask"
   ]
  },
  {
   "cell_type": "markdown",
   "id": "86b143f7-0841-4f6d-8df8-705e21211e5e",
   "metadata": {},
   "source": [
    "To create a RESTful API endpoint using Flask, you define a route with the @app.route() decorator that specifies the URL path and allowed HTTP methods (like GET, POST, etc.). Inside the associated view function, you handle the incoming request, process any input data using Flask’s request object if needed, and return a response—usually in JSON format—using jsonify() to ensure proper content type. This way, the endpoint can respond to client requests with the appropriate data or status codes, following REST principles. For example, a GET endpoint might return a list of resources, while a POST endpoint could accept JSON data to create a new resource."
   ]
  },
  {
   "cell_type": "markdown",
   "id": "b7e49349-62d3-4361-a88c-01a928bc2bdb",
   "metadata": {},
   "source": [
    "### 15. What is the purpose of Flask's jsonify() function"
   ]
  },
  {
   "cell_type": "markdown",
   "id": "fb56f14b-1e13-43c9-95c2-69de8f3ab10b",
   "metadata": {},
   "source": [
    "Flask’s jsonify() function is used to convert Python data structures like dictionaries or lists into a properly formatted JSON response that can be sent back to the client. It sets the correct MIME type (application/json) in the HTTP response headers automatically, ensuring that clients understand the response content is JSON. This function simplifies returning data from Flask APIs by handling serialization and response formatting, making it easy to build RESTful endpoints that communicate using JSON, which is the standard format for web APIs."
   ]
  },
  {
   "cell_type": "markdown",
   "id": "9c6c9836-5995-4d42-8bbe-412369ba87ff",
   "metadata": {},
   "source": [
    "### 16. Explain Flask’s url_for() function"
   ]
  },
  {
   "cell_type": "markdown",
   "id": "ba1fd6e0-248b-4768-9974-3761f0d9af0e",
   "metadata": {},
   "source": [
    "Flask’s url_for() function is used to dynamically build URLs for specific functions or endpoints defined in your application, based on the name of the view function rather than hardcoding URLs directly. This is especially useful because it allows your app to generate correct URLs even if the routes change later, ensuring maintainability and reducing errors. You can also pass parameters to url_for() to generate URLs with variable parts, such as IDs or query strings. Overall, url_for() helps create flexible, clean, and reliable links within your Flask app, improving navigation and routing."
   ]
  },
  {
   "cell_type": "markdown",
   "id": "acb8adf3-2dfa-432e-8b4d-fdd1e50a5004",
   "metadata": {},
   "source": [
    "### 17.  How does Flask handle static files (CSS, JavaScript, etc.)"
   ]
  },
  {
   "cell_type": "markdown",
   "id": "a04eaa0a-cd10-47ad-b077-6d04a726b6ea",
   "metadata": {},
   "source": [
    "Flask handles static files like CSS, JavaScript, and images by serving them from a dedicated folder named static within your project directory. When you place your static assets inside this folder, Flask automatically makes them accessible via the /static/ URL path. For example, a CSS file located at static/styles.css can be accessed in your HTML using a URL like /static/styles.css. You can also use Flask’s url_for('static', filename='styles.css') function to dynamically generate the correct URL to these static resources, which helps manage paths efficiently. This built-in static file handling simplifies serving frontend assets alongside your Flask application.\n",
    "\n",
    "\n",
    "\n",
    "\n",
    "\n",
    "\n",
    "\n",
    "\n"
   ]
  },
  {
   "cell_type": "markdown",
   "id": "1ed199c1-9c52-40f8-b7b7-5ab586eb084f",
   "metadata": {},
   "source": [
    "### 18. What is an API specification, and how does it help in building a Flask API"
   ]
  },
  {
   "cell_type": "markdown",
   "id": "537dec91-68bd-4d56-806f-664b6492e772",
   "metadata": {},
   "source": [
    "An API specification is a detailed document or blueprint that defines how an API behaves, outlining its endpoints, request methods, input parameters, response formats, authentication methods, and error handling. It serves as a clear contract between the API provider and consumers, ensuring everyone understands how to interact with the API correctly. When building a Flask API, having a well-defined specification helps developers design and implement consistent routes, validate inputs, and format responses according to agreed standards. It also facilitates documentation, testing, and maintenance, making development smoother and reducing misunderstandings or errors during integration."
   ]
  },
  {
   "cell_type": "markdown",
   "id": "ec2c0e49-56fd-4734-acf9-95d7ad6e3333",
   "metadata": {},
   "source": [
    "### 19. What are HTTP status codes, and why are they important in a Flask API"
   ]
  },
  {
   "cell_type": "markdown",
   "id": "74cee2c3-2d00-492b-a2c7-4d675d5b0d35",
   "metadata": {},
   "source": [
    "HTTP status codes are standardized numeric codes sent by a server in response to a client’s request, indicating the result or outcome of that request. They help communicate whether the request was successful (e.g., 200 OK), resulted in a client error (e.g., 400 Bad Request), or encountered a server error (e.g., 500 Internal Server Error). In a Flask API, using appropriate HTTP status codes is important because they provide clear feedback to clients about the success or failure of their requests, enabling better error handling and debugging. Proper status codes also improve API usability by conforming to web standards and making interactions predictable for developers consuming the API."
   ]
  },
  {
   "cell_type": "markdown",
   "id": "83221e6b-46f8-47c6-8f8d-59f06764c925",
   "metadata": {},
   "source": [
    "### 20. How do you handle POST requests in Flask"
   ]
  },
  {
   "cell_type": "markdown",
   "id": "9c42e456-9e7b-49a4-b47a-9053e79f00c4",
   "metadata": {},
   "source": [
    "In Flask, handling POST requests involves defining a route that explicitly allows the POST method using the methods parameter in the @app.route() decorator. Inside the associated view function, you access the incoming data sent by the client through the request object, typically using request.form for form data or request.get_json() for JSON payloads. After processing or validating this data, you perform the desired actions such as creating a new resource or updating information, and then return an appropriate response, often in JSON format with a relevant HTTP status code like 201 (Created). This approach enables Flask to accept and process data sent by clients securely and efficiently through POST requests."
   ]
  },
  {
   "cell_type": "markdown",
   "id": "a91ed05d-cccb-4455-bcd5-e46b3c8dfd33",
   "metadata": {},
   "source": [
    "### 21. How would you secure a Flask API"
   ]
  },
  {
   "cell_type": "markdown",
   "id": "36dfa7b2-b3d7-4f73-b84a-ff177a7e022c",
   "metadata": {},
   "source": [
    "Securing a Flask API involves multiple layers of protection to ensure that only authorized users can access the endpoints and that data remains safe. Common practices include implementing authentication mechanisms like API keys, OAuth tokens, or JWT (JSON Web Tokens) to verify user identity and control access. Using HTTPS to encrypt data in transit prevents eavesdropping and tampering. Input validation and sanitization help guard against injection attacks, while rate limiting can protect against abuse or denial-of-service attacks. Additionally, properly handling errors to avoid exposing sensitive information, regularly updating dependencies, and configuring secure headers all contribute to a robust security posture for a Flask API."
   ]
  },
  {
   "cell_type": "markdown",
   "id": "22123fa3-82a4-4a51-b8fc-d5cdf48cddab",
   "metadata": {},
   "source": [
    "### 22. What is the significance of the Flask-RESTful extension"
   ]
  },
  {
   "cell_type": "markdown",
   "id": "428c38a5-8a94-45b6-ad28-7f7817023cb0",
   "metadata": {},
   "source": [
    "The Flask-RESTful extension is significant because it simplifies building RESTful APIs with Flask by providing useful abstractions and tools that reduce boilerplate code. It introduces features like resource classes that organize endpoints into reusable components, automatic request parsing, and integrated support for input validation and formatting. Flask-RESTful also handles HTTP methods more cleanly, allowing developers to define get(), post(), put(), and delete() methods within resource classes. This structured approach promotes cleaner, more maintainable code and speeds up API development, making it easier to follow REST principles while building scalable Flask applications."
   ]
  },
  {
   "cell_type": "markdown",
   "id": "4e931afa-f627-401c-99e8-d23580613cea",
   "metadata": {},
   "source": [
    "### 23.  What is the role of Flask’s session object?"
   ]
  },
  {
   "cell_type": "markdown",
   "id": "fa8af2f0-d371-4c81-9881-b0b27357be4a",
   "metadata": {},
   "source": [
    "Flask’s session object plays a crucial role in managing user-specific data across multiple requests by storing information on the client side in a secure, signed cookie. It allows you to keep track of data like user login status, preferences, or other temporary information throughout a user’s interaction with the web application without requiring server-side storage. By using the session object, developers can create personalized experiences while maintaining stateless HTTP communication, and Flask ensures the data’s integrity and confidentiality by cryptographically signing the session cookie."
   ]
  },
  {
   "cell_type": "markdown",
   "id": "b986e226-51fd-4ccc-842d-13e9f7343593",
   "metadata": {},
   "source": [
    "# Practicals"
   ]
  },
  {
   "cell_type": "markdown",
   "id": "271d0ac8-6d9a-4129-a894-7d25a2ad2b6c",
   "metadata": {},
   "source": [
    "### 1.How do you create a basic Flask application"
   ]
  },
  {
   "cell_type": "code",
   "execution_count": 3,
   "id": "d80036d2-a2e6-49a4-95c9-081e11eacb0c",
   "metadata": {},
   "outputs": [
    {
     "name": "stdout",
     "output_type": "stream",
     "text": [
      " * Serving Flask app '__main__'\n",
      " * Debug mode: on\n"
     ]
    },
    {
     "name": "stderr",
     "output_type": "stream",
     "text": [
      "WARNING: This is a development server. Do not use it in a production deployment. Use a production WSGI server instead.\n",
      " * Running on http://127.0.0.1:5000\n",
      "Press CTRL+C to quit\n",
      " * Restarting with watchdog (windowsapi)\n"
     ]
    },
    {
     "ename": "SystemExit",
     "evalue": "1",
     "output_type": "error",
     "traceback": [
      "An exception has occurred, use %tb to see the full traceback.\n",
      "\u001b[1;31mSystemExit\u001b[0m\u001b[1;31m:\u001b[0m 1\n"
     ]
    },
    {
     "name": "stderr",
     "output_type": "stream",
     "text": [
      "C:\\Users\\abdul\\anaconda3\\Lib\\site-packages\\IPython\\core\\interactiveshell.py:3585: UserWarning: To exit: use 'exit', 'quit', or Ctrl-D.\n",
      "  warn(\"To exit: use 'exit', 'quit', or Ctrl-D.\", stacklevel=1)\n"
     ]
    }
   ],
   "source": [
    "from flask import Flask\n",
    "\n",
    "app = Flask(__name__)\n",
    "\n",
    "@app.route('/')\n",
    "def home():\n",
    "    return \"Hello, Flask!\"\n",
    "\n",
    "if __name__ == '__main__':\n",
    "    app.run(debug=True)\n"
   ]
  },
  {
   "cell_type": "markdown",
   "id": "cd72c733-bc45-4075-8c1d-cf41377c60b4",
   "metadata": {},
   "source": [
    "### 2.How do you serve static files like images or CSS in Flask"
   ]
  },
  {
   "cell_type": "code",
   "execution_count": 7,
   "id": "0d189c06-bcbf-464e-ab22-bb9b720efc4d",
   "metadata": {},
   "outputs": [
    {
     "name": "stdout",
     "output_type": "stream",
     "text": [
      " * Serving Flask app '__main__'\n",
      " * Debug mode: on\n"
     ]
    },
    {
     "name": "stderr",
     "output_type": "stream",
     "text": [
      "WARNING: This is a development server. Do not use it in a production deployment. Use a production WSGI server instead.\n",
      " * Running on http://127.0.0.1:5000\n",
      "Press CTRL+C to quit\n",
      " * Restarting with watchdog (windowsapi)\n"
     ]
    },
    {
     "ename": "SystemExit",
     "evalue": "1",
     "output_type": "error",
     "traceback": [
      "An exception has occurred, use %tb to see the full traceback.\n",
      "\u001b[1;31mSystemExit\u001b[0m\u001b[1;31m:\u001b[0m 1\n"
     ]
    }
   ],
   "source": [
    "# Place your static files (CSS, images, JS) inside a folder named 'static' in your project directory.\n",
    "# Example project structure:\n",
    "# /your_project\n",
    "#    /static\n",
    "#       styles.css\n",
    "#       logo.png\n",
    "#    app.py\n",
    "\n",
    "from flask import Flask, url_for, render_template_string\n",
    "\n",
    "app = Flask(__name__)\n",
    "\n",
    "@app.route('/')\n",
    "def home():\n",
    "    # Use url_for to generate the URL for static files\n",
    "    css_url = url_for('static', filename='styles.css')\n",
    "    logo_url = url_for('static', filename='logo.png')\n",
    "    return render_template_string('''\n",
    "        <html>\n",
    "        <head><link rel=\"stylesheet\" href=\"{{ css_url }}\"></head>\n",
    "        <body>\n",
    "            <h1>Welcome!</h1>\n",
    "            <img src=\"{{ logo_url }}\" alt=\"Logo\">\n",
    "        </body>\n",
    "        </html>\n",
    "    ''', css_url=css_url, logo_url=logo_url)\n",
    "\n",
    "if __name__ == '__main__':\n",
    "    app.run(debug=True)\n"
   ]
  },
  {
   "cell_type": "markdown",
   "id": "1051204c-566c-41ca-bb45-90e87eecf48e",
   "metadata": {},
   "source": [
    "### 3. How do you define different routes with different HTTP methods in Flask3. "
   ]
  },
  {
   "cell_type": "code",
   "execution_count": null,
   "id": "2a38abfc-e9a5-49aa-9519-89725589f7a8",
   "metadata": {},
   "outputs": [],
   "source": [
    "from flask import Flask, request, jsonify\n",
    "\n",
    "app = Flask(__name__)\n",
    "\n",
    "@app.route('/items', methods=['GET'])\n",
    "def get_items():\n",
    "    return jsonify({\"message\": \"This is a GET request to fetch items\"})\n",
    "\n",
    "@app.route('/items', methods=['POST'])\n",
    "def create_item():\n",
    "    data = request.get_json()\n",
    "    return jsonify({\"message\": \"Item created\", \"item\": data}), 201\n",
    "\n",
    "@app.route('/items/<int:item_id>', methods=['PUT'])\n",
    "def update_item(item_id):\n",
    "    data = request.get_json()\n",
    "    return jsonify({\"message\": f\"Item {item_id} updated\", \"updated_data\": data})\n",
    "\n",
    "@app.route('/items/<int:item_id>', methods=['DELETE'])\n",
    "def delete_item(item_id):\n",
    "    return jsonify({\"message\": f\"Item {item_id} deleted\"})\n",
    "\n",
    "if __name__ == '__main__':\n",
    "    app.run(debug=True)\n"
   ]
  },
  {
   "cell_type": "markdown",
   "id": "a3d126f7-111b-41a0-bd17-908ad9397e91",
   "metadata": {},
   "source": [
    "### 4.  How do you render HTML templates in Flask"
   ]
  },
  {
   "cell_type": "code",
   "execution_count": null,
   "id": "6bf50f91-3f97-44fd-b8d1-cb6e1c36f07b",
   "metadata": {},
   "outputs": [],
   "source": [
    "from flask import Flask, render_template\n",
    "\n",
    "app = Flask(__name__)\n",
    "\n",
    "@app.route('/')\n",
    "def home():\n",
    "    # Render an HTML template named 'index.html' located in the 'templates' folder\n",
    "    return render_template('index.html', title=\"Home Page\", username=\"Alice\")\n",
    "\n",
    "if __name__ == '__main__':\n",
    "    app.run(debug=True)\n"
   ]
  },
  {
   "cell_type": "markdown",
   "id": "3883b6ee-8f73-464d-8d66-5ac3a09e8468",
   "metadata": {},
   "source": [
    "### 5. How can you generate URLs for routes in Flask using url_for"
   ]
  },
  {
   "cell_type": "code",
   "execution_count": null,
   "id": "a518ccaf-e7f6-4313-9654-23acdfd284c8",
   "metadata": {},
   "outputs": [],
   "source": [
    "from flask import Flask, url_for\n",
    "\n",
    "app = Flask(__name__)\n",
    "\n",
    "@app.route('/')\n",
    "def home():\n",
    "    return \"This is the home page.\"\n",
    "\n",
    "@app.route('/user/<username>')\n",
    "def profile(username):\n",
    "    return f\"User profile for {username}\"\n",
    "\n",
    "@app.route('/links')\n",
    "def links():\n",
    "    # Generate URLs for the 'home' and 'profile' routes\n",
    "    home_url = url_for('home')\n",
    "    profile_url = url_for('profile', username='john_doe')\n",
    "    return f\"\"\"\n",
    "    <a href=\"{home_url}\">Home</a><br>\n",
    "    <a href=\"{profile_url}\">John's Profile</a>\n",
    "    \"\"\"\n",
    "\n",
    "if __name__ == '__main__':\n",
    "    app.run(debug=True)\n"
   ]
  },
  {
   "cell_type": "markdown",
   "id": "44e32f8c-a79f-42c1-8ca2-d9454c876cdf",
   "metadata": {},
   "source": [
    "### 6.  How do you handle forms in Flask"
   ]
  },
  {
   "cell_type": "code",
   "execution_count": null,
   "id": "6dab5480-778e-43e4-b80d-0ba09936fb5d",
   "metadata": {},
   "outputs": [],
   "source": [
    "from flask import Flask, request, render_template_string, redirect, url_for\n",
    "\n",
    "app = Flask(__name__)\n",
    "\n",
    "@app.route('/form', methods=['GET', 'POST'])\n",
    "def form():\n",
    "    if request.method == 'POST':\n",
    "        # Access form data\n",
    "        name = request.form.get('name')\n",
    "        email = request.form.get('email')\n",
    "        # Process data (e.g., save to database)\n",
    "        return redirect(url_for('success', username=name))\n",
    "    \n",
    "    # Render simple HTML form\n",
    "    return render_template_string('''\n",
    "        <form method=\"POST\">\n",
    "            Name: <input type=\"text\" name=\"name\" required><br>\n",
    "            Email: <input type=\"email\" name=\"email\" required><br>\n",
    "            <input type=\"submit\" value=\"Submit\">\n",
    "        </form>\n",
    "    ''')\n",
    "\n",
    "@app.route('/success/<username>')\n",
    "def success(username):\n",
    "    return f\"Form submitted successfully! Welcome, {username}.\"\n",
    "\n",
    "if __name__ == '__main__':\n",
    "    app.run(debug=True)\n"
   ]
  },
  {
   "cell_type": "markdown",
   "id": "33e0d04b-6780-41e7-8fca-684b9593f07a",
   "metadata": {},
   "source": [
    "### 7.  How can you validate form data in Flask"
   ]
  },
  {
   "cell_type": "code",
   "execution_count": null,
   "id": "87bcd49e-4143-49c6-a514-0fe8284d3ed8",
   "metadata": {},
   "outputs": [],
   "source": [
    "from flask import Flask, request, render_template_string, redirect, url_for, flash\n",
    "from flask_wtf import FlaskForm\n",
    "from wtforms import StringField, EmailField\n",
    "from wtforms.validators import DataRequired, Email, Length\n",
    "\n",
    "app = Flask(__name__)\n",
    "app.secret_key = 'your_secret_key'  # Needed for CSRF protection and flashing messages\n",
    "\n",
    "class MyForm(FlaskForm):\n",
    "    name = StringField('Name', validators=[DataRequired(), Length(min=2, max=50)])\n",
    "    email = EmailField('Email', validators=[DataRequired(), Email()])\n",
    "\n",
    "@app.route('/form', methods=['GET', 'POST'])\n",
    "def form():\n",
    "    form = MyForm()\n",
    "    if form.validate_on_submit():\n",
    "        name = form.name.data\n",
    "        email = form.email.data\n",
    "        return redirect(url_for('success', username=name))\n",
    "    # Render form with validation error messages\n",
    "    return render_template_string('''\n",
    "        <form method=\"POST\">\n",
    "            {{ form.hidden_tag() }}\n",
    "            Name: {{ form.name(size=20) }}<br>\n",
    "            {% for error in form.name.errors %}\n",
    "                <span style=\"color:red;\">{{ error }}</span><br>\n",
    "            {% endfor %}\n",
    "            Email: {{ form.email(size=20) }}<br>\n",
    "            {% for error in form.email.errors %}\n",
    "                <span style=\"color:red;\">{{ error }}</span><br>\n",
    "            {% endfor %}\n",
    "            <input type=\"submit\" value=\"Submit\">\n",
    "        </form>\n",
    "    ''', form=form)\n",
    "\n",
    "@app.route('/success/<username>')\n",
    "def success(username):\n",
    "    return f\"Form submitted successfully! Welcome, {username}.\"\n",
    "\n",
    "if __name__ == '__main__':\n",
    "    app.run(debug=True)\n"
   ]
  },
  {
   "cell_type": "markdown",
   "id": "af734eb2-11aa-408e-adaf-ee08dc91920a",
   "metadata": {},
   "source": [
    "### 8. How do you manage sessions in Flask"
   ]
  },
  {
   "cell_type": "code",
   "execution_count": null,
   "id": "1ca2842d-025c-4dc3-85dd-938c1f5bc449",
   "metadata": {},
   "outputs": [],
   "source": [
    "from flask import Flask, session, redirect, url_for, request\n",
    "\n",
    "app = Flask(__name__)\n",
    "app.secret_key = 'your_secret_key'  # Required to use sessions securely\n",
    "\n",
    "@app.route('/login', methods=['GET', 'POST'])\n",
    "def login():\n",
    "    if request.method == 'POST':\n",
    "        # Store username in session after login\n",
    "        session['username'] = request.form['username']\n",
    "        return redirect(url_for('profile'))\n",
    "    return '''\n",
    "        <form method=\"POST\">\n",
    "            Username: <input type=\"text\" name=\"username\">\n",
    "            <input type=\"submit\" value=\"Login\">\n",
    "        </form>\n",
    "    '''\n",
    "\n",
    "@app.route('/profile')\n",
    "def profile():\n",
    "    # Access session data\n",
    "    if 'username' in session:\n",
    "        return f\"Logged in as {session['username']}\"\n",
    "    return \"You are not logged in.\"\n",
    "\n",
    "@app.route('/logout')\n",
    "def logout():\n",
    "    # Clear the session\n",
    "    session.pop('username', None)\n",
    "    return redirect(url_for('login'))\n",
    "\n",
    "if __name__ == '__main__':\n",
    "    app.run(debug=True)\n"
   ]
  },
  {
   "cell_type": "markdown",
   "id": "e7e00e49-5680-49e0-ac6f-1e34f638284c",
   "metadata": {},
   "source": [
    "### 9.How do you redirect to a different route in Flask"
   ]
  },
  {
   "cell_type": "code",
   "execution_count": null,
   "id": "eeb82b72-7f65-4bde-90c8-a3ef1a03bed1",
   "metadata": {},
   "outputs": [],
   "source": [
    "from flask import Flask, redirect, url_for\n",
    "\n",
    "app = Flask(__name__)\n",
    "\n",
    "@app.route('/')\n",
    "def home():\n",
    "    # Redirect to the 'welcome' route\n",
    "    return redirect(url_for('welcome'))\n",
    "\n",
    "@app.route('/welcome')\n",
    "def welcome():\n",
    "    return \"Welcome to the redirected page!\"\n",
    "\n",
    "if __name__ == '__main__':\n",
    "    app.run(debug=True)\n"
   ]
  },
  {
   "cell_type": "markdown",
   "id": "93407171-93bb-40ec-aa46-a78782d9ca2f",
   "metadata": {},
   "source": [
    "### 10. How do you handle errors in Flask (e.g., 404)"
   ]
  },
  {
   "cell_type": "code",
   "execution_count": null,
   "id": "3e2ba03d-22f9-4fbc-bfec-e26de74c4fbb",
   "metadata": {},
   "outputs": [],
   "source": [
    "from flask import Flask, render_template_string\n",
    "\n",
    "app = Flask(__name__)\n",
    "\n",
    "@app.errorhandler(404)\n",
    "def not_found_error(error):\n",
    "    return render_template_string('''\n",
    "        <h1>404 Not Found</h1>\n",
    "        <p>The page you are looking for does not exist.</p>\n",
    "    '''), 404\n",
    "\n",
    "@app.route('/')\n",
    "def home():\n",
    "    return \"Welcome to the home page!\"\n",
    "\n",
    "if __name__ == '__main__':\n",
    "    app.run(debug=True)\n"
   ]
  },
  {
   "cell_type": "markdown",
   "id": "0b13916f-77a0-4a93-bc2d-a02e33004e6d",
   "metadata": {},
   "source": [
    "### 11. How do you structure a Flask app using Blueprints"
   ]
  },
  {
   "cell_type": "code",
   "execution_count": null,
   "id": "cf035a23-4722-4448-b041-7c33bbc105f4",
   "metadata": {},
   "outputs": [],
   "source": [
    "# project/\n",
    "# ├── app.py\n",
    "# ├── users/\n",
    "# │   ├── __init__.py\n",
    "# │   └── routes.py\n",
    "# └── products/\n",
    "#     ├── __init__.py\n",
    "#     └── routes.py\n",
    "\n",
    "# users/routes.py\n",
    "from flask import Blueprint\n",
    "\n",
    "users_bp = Blueprint('users', __name__, url_prefix='/users')\n",
    "\n",
    "@users_bp.route('/')\n",
    "def users_home():\n",
    "    return \"Users Home Page\"\n",
    "\n",
    "@users_bp.route('/profile')\n",
    "def profile():\n",
    "    return \"User Profile Page\"\n",
    "\n",
    "# products/routes.py\n",
    "from flask import Blueprint\n",
    "\n",
    "products_bp = Blueprint('products', __name__, url_prefix='/products')\n",
    "\n",
    "@products_bp.route('/')\n",
    "def products_home():\n",
    "    return \"Products Home Page\"\n",
    "\n",
    "@products_bp.route('/details')\n",
    "def details():\n",
    "    return \"Product Details Page\"\n",
    "\n",
    "# app.py\n",
    "from flask import Flask\n",
    "from users.routes import users_bp\n",
    "from products.routes import products_bp\n",
    "\n",
    "app = Flask(__name__)\n",
    "\n",
    "# Register blueprints\n",
    "app.register_blueprint(users_bp)\n",
    "app.register_blueprint(products_bp)\n",
    "\n",
    "@app.route('/')\n",
    "def home():\n",
    "    return \"Main Home Page\"\n",
    "\n",
    "if __name__ == '__main__':\n",
    "    app.run(debug=True)\n"
   ]
  },
  {
   "cell_type": "markdown",
   "id": "c36b9b76-2068-421d-9b09-c0d8b20a09ff",
   "metadata": {},
   "source": [
    "### 12.  How do you define a custom Jinja filter in Flask"
   ]
  },
  {
   "cell_type": "code",
   "execution_count": null,
   "id": "5187329c-c5c5-4218-9b18-206fcffc6df1",
   "metadata": {},
   "outputs": [],
   "source": [
    "from flask import Flask, render_template_string\n",
    "\n",
    "app = Flask(__name__)\n",
    "\n",
    "# Define a custom Jinja filter function\n",
    "def reverse_string(s):\n",
    "    return s[::-1]\n",
    "\n",
    "# Register the filter with Flask\n",
    "app.jinja_env.filters['reverse'] = reverse_string\n",
    "\n",
    "@app.route('/')\n",
    "def home():\n",
    "    text = \"Flask\"\n",
    "    # Use the custom filter 'reverse' in the template\n",
    "    return render_template_string('''\n",
    "        Original: {{ text }} <br>\n",
    "        Reversed: {{ text|reverse }}\n",
    "    ''', text=text)\n",
    "\n",
    "if __name__ == '__main__':\n",
    "    app.run(debug=True)\n"
   ]
  },
  {
   "cell_type": "markdown",
   "id": "b41ea14c-0ea0-4a05-96d8-4547b9541091",
   "metadata": {},
   "source": [
    "### 13.  How can you redirect with query parameters in Flask"
   ]
  },
  {
   "cell_type": "code",
   "execution_count": null,
   "id": "12a55d05-f1ab-4e8f-b9bd-bc1c59e7a5c6",
   "metadata": {},
   "outputs": [],
   "source": [
    "from flask import Flask, redirect, url_for, request\n",
    "\n",
    "app = Flask(__name__)\n",
    "\n",
    "@app.route('/search')\n",
    "def search():\n",
    "    # Get query parameters from URL\n",
    "    query = request.args.get('q', '')\n",
    "    return f\"Search results for: {query}\"\n",
    "\n",
    "@app.route('/redirect-to-search')\n",
    "def redirect_to_search():\n",
    "    # Redirect to '/search' with query parameters\n",
    "    return redirect(url_for('search', q='flask tutorials', page=2))\n",
    "\n",
    "if __name__ == '__main__':\n",
    "    app.run(debug=True)\n"
   ]
  },
  {
   "cell_type": "markdown",
   "id": "d09650cf-e059-47c6-bb64-9aeac1825837",
   "metadata": {},
   "source": [
    "### 14. How do you return JSON responses in Flask"
   ]
  },
  {
   "cell_type": "code",
   "execution_count": null,
   "id": "8cb4b254-8375-42ae-a222-d030b5eb049d",
   "metadata": {},
   "outputs": [],
   "source": [
    "from flask import Flask, jsonify\n",
    "\n",
    "app = Flask(__name__)\n",
    "\n",
    "@app.route('/api/data')\n",
    "def api_data():\n",
    "    data = {\n",
    "        \"name\": \"Alice\",\n",
    "        \"age\": 30,\n",
    "        \"city\": \"New York\"\n",
    "    }\n",
    "    return jsonify(data)  # Automatically converts dict to JSON response\n",
    "\n",
    "if __name__ == '__main__':\n",
    "    app.run(debug=True)\n"
   ]
  },
  {
   "cell_type": "markdown",
   "id": "0069c806-f8b8-4ec8-904d-5dfb138dec1b",
   "metadata": {},
   "source": [
    "### 15. How do you capture URL parameters in Flask"
   ]
  },
  {
   "cell_type": "code",
   "execution_count": null,
   "id": "373d3980-0f69-47de-919b-2378a14d8cad",
   "metadata": {},
   "outputs": [],
   "source": [
    "from flask import Flask\n",
    "\n",
    "app = Flask(__name__)\n",
    "\n",
    "# Capture a string parameter from the URL\n",
    "@app.route('/user/<username>')\n",
    "def show_user(username):\n",
    "    return f\"User: {username}\"\n",
    "\n",
    "# Capture an integer parameter from the URL\n",
    "@app.route('/post/<int:post_id>')\n",
    "def show_post(post_id):\n",
    "    return f\"Post ID: {post_id}\"\n",
    "\n",
    "if __name__ == '__main__':\n",
    "    app.run(debug=True)\n"
   ]
  }
 ],
 "metadata": {
  "kernelspec": {
   "display_name": "Python 3 (ipykernel)",
   "language": "python",
   "name": "python3"
  },
  "language_info": {
   "codemirror_mode": {
    "name": "ipython",
    "version": 3
   },
   "file_extension": ".py",
   "mimetype": "text/x-python",
   "name": "python",
   "nbconvert_exporter": "python",
   "pygments_lexer": "ipython3",
   "version": "3.12.4"
  }
 },
 "nbformat": 4,
 "nbformat_minor": 5
}
